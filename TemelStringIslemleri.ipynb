{
 "cells": [
  {
   "cell_type": "markdown",
   "id": "916296d1",
   "metadata": {},
   "source": [
    "# Temel String İşlemleri"
   ]
  },
  {
   "cell_type": "markdown",
   "id": "adc081bc",
   "metadata": {},
   "source": [
    "## Oluşturma/Biçimlendirme"
   ]
  },
  {
   "cell_type": "code",
   "execution_count": 7,
   "id": "c25e5f94",
   "metadata": {},
   "outputs": [],
   "source": [
    "isim = \"mvklm\""
   ]
  },
  {
   "cell_type": "code",
   "execution_count": 8,
   "id": "a21cf58e",
   "metadata": {},
   "outputs": [
    {
     "data": {
      "text/plain": [
       "'mvklmmvklmmvklm'"
      ]
     },
     "execution_count": 8,
     "metadata": {},
     "output_type": "execute_result"
    }
   ],
   "source": [
    "3*isim"
   ]
  },
  {
   "cell_type": "code",
   "execution_count": 9,
   "id": "a90769c3",
   "metadata": {},
   "outputs": [
    {
     "data": {
      "text/plain": [
       "'mvklmali'"
      ]
     },
     "execution_count": 9,
     "metadata": {},
     "output_type": "execute_result"
    }
   ],
   "source": [
    "isim +\"ali\""
   ]
  },
  {
   "cell_type": "code",
   "execution_count": 11,
   "id": "de79f12a",
   "metadata": {},
   "outputs": [
    {
     "data": {
      "text/plain": [
       "'Kvklm mvk'"
      ]
     },
     "execution_count": 11,
     "metadata": {},
     "output_type": "execute_result"
    }
   ],
   "source": [
    "\"K\" + isim[1:] +\" \"+isim[:3]"
   ]
  },
  {
   "cell_type": "code",
   "execution_count": 12,
   "id": "6e9bd5b0",
   "metadata": {},
   "outputs": [],
   "source": [
    "isimler  =[\"ali\",\"veli\",\"ayse\"]"
   ]
  },
  {
   "cell_type": "code",
   "execution_count": 33,
   "id": "d3e5c05b",
   "metadata": {},
   "outputs": [
    {
     "name": "stdout",
     "output_type": "stream",
     "text": [
      "isim: ali\n",
      "_ali\n",
      "__li\n",
      "___i\n",
      "isim: veli\n",
      "_veli\n",
      "__eli\n",
      "___li\n",
      "isim: ayse\n",
      "_ayse\n",
      "__yse\n",
      "___se\n"
     ]
    }
   ],
   "source": [
    "for i in isimler:\n",
    "    print(\"isim:\", i ,sep= \" \")\n",
    "    print(\"_\",i[:], sep=\"\")\n",
    "    print(\"__\",i[1:], sep=\"\")\n",
    "    print(\"___\",i[2:], sep=\"\")"
   ]
  },
  {
   "cell_type": "code",
   "execution_count": 34,
   "id": "552f6ec2",
   "metadata": {},
   "outputs": [
    {
     "name": "stdout",
     "output_type": "stream",
     "text": [
      "(0, 'ali') (1, 'veli') (2, 'ayse')\n"
     ]
    }
   ],
   "source": [
    "print(*enumerate(isimler))"
   ]
  },
  {
   "cell_type": "code",
   "execution_count": 36,
   "id": "603f8926",
   "metadata": {},
   "outputs": [
    {
     "name": "stdout",
     "output_type": "stream",
     "text": [
      "(0, 'i')\n",
      "(1, 's')\n",
      "(2, 'i')\n",
      "(3, 'm')\n",
      "(4, 'l')\n",
      "(5, 'e')\n",
      "(6, 'r')\n"
     ]
    }
   ],
   "source": [
    "for i in enumerate(\"isimler\"):\n",
    "    print(i)"
   ]
  },
  {
   "cell_type": "code",
   "execution_count": 37,
   "id": "ef535c0a",
   "metadata": {},
   "outputs": [
    {
     "name": "stdout",
     "output_type": "stream",
     "text": [
      "(4, 'ali')\n",
      "(5, 'veli')\n",
      "(6, 'ayse')\n"
     ]
    }
   ],
   "source": [
    "for i in enumerate(isimler,4):\n",
    "    print(i)"
   ]
  },
  {
   "cell_type": "markdown",
   "id": "b85348cf",
   "metadata": {},
   "source": [
    "## Dizi İçi Tip Sorgulama"
   ]
  },
  {
   "cell_type": "code",
   "execution_count": 38,
   "id": "a217153b",
   "metadata": {},
   "outputs": [
    {
     "data": {
      "text/plain": [
       "True"
      ]
     },
     "execution_count": 38,
     "metadata": {},
     "output_type": "execute_result"
    }
   ],
   "source": [
    "\"mvk\".isalpha() #alfabetik mi?"
   ]
  },
  {
   "cell_type": "code",
   "execution_count": 39,
   "id": "ed2b070c",
   "metadata": {},
   "outputs": [
    {
     "data": {
      "text/plain": [
       "False"
      ]
     },
     "execution_count": 39,
     "metadata": {},
     "output_type": "execute_result"
    }
   ],
   "source": [
    "\"mvk30\".isalpha()"
   ]
  },
  {
   "cell_type": "code",
   "execution_count": 40,
   "id": "d49c55f9",
   "metadata": {},
   "outputs": [
    {
     "data": {
      "text/plain": [
       "True"
      ]
     },
     "execution_count": 40,
     "metadata": {},
     "output_type": "execute_result"
    }
   ],
   "source": [
    "\"123\".isnumeric()"
   ]
  },
  {
   "cell_type": "code",
   "execution_count": 41,
   "id": "db68476b",
   "metadata": {},
   "outputs": [
    {
     "data": {
      "text/plain": [
       "True"
      ]
     },
     "execution_count": 41,
     "metadata": {},
     "output_type": "execute_result"
    }
   ],
   "source": [
    "\"123\".isdigit()"
   ]
  },
  {
   "cell_type": "code",
   "execution_count": 42,
   "id": "9ac430b4",
   "metadata": {},
   "outputs": [
    {
     "data": {
      "text/plain": [
       "True"
      ]
     },
     "execution_count": 42,
     "metadata": {},
     "output_type": "execute_result"
    }
   ],
   "source": [
    "\"mvk\".isalnum()"
   ]
  },
  {
   "cell_type": "markdown",
   "id": "14d5596b",
   "metadata": {},
   "source": [
    "## Elemanlarına ve Eleman Indexine Erişmek"
   ]
  },
  {
   "cell_type": "code",
   "execution_count": 48,
   "id": "a7de5c6b",
   "metadata": {},
   "outputs": [],
   "source": [
    "a = \"merhabadunya\""
   ]
  },
  {
   "cell_type": "code",
   "execution_count": 49,
   "id": "c136a271",
   "metadata": {},
   "outputs": [
    {
     "data": {
      "text/plain": [
       "'merha'"
      ]
     },
     "execution_count": 49,
     "metadata": {},
     "output_type": "execute_result"
    }
   ],
   "source": [
    "a[:5]"
   ]
  },
  {
   "cell_type": "code",
   "execution_count": 54,
   "id": "7c5ca5f6",
   "metadata": {},
   "outputs": [
    {
     "data": {
      "text/plain": [
       "0"
      ]
     },
     "execution_count": 54,
     "metadata": {},
     "output_type": "execute_result"
    }
   ],
   "source": [
    "a.index(\"m\")"
   ]
  },
  {
   "cell_type": "code",
   "execution_count": 55,
   "id": "87084f61",
   "metadata": {},
   "outputs": [
    {
     "data": {
      "text/plain": [
       "4"
      ]
     },
     "execution_count": 55,
     "metadata": {},
     "output_type": "execute_result"
    }
   ],
   "source": [
    "a.index(\"a\")"
   ]
  },
  {
   "cell_type": "code",
   "execution_count": 58,
   "id": "e028da5f",
   "metadata": {},
   "outputs": [
    {
     "data": {
      "text/plain": [
       "6"
      ]
     },
     "execution_count": 58,
     "metadata": {},
     "output_type": "execute_result"
    }
   ],
   "source": [
    "a.index(\"a\",5) #ikinci a'yı bulduk"
   ]
  },
  {
   "cell_type": "markdown",
   "id": "c80b50bd",
   "metadata": {},
   "source": [
    "## Başlangıç ve Bitiş Değerlerini Sorgulamak: startswith() & endswith()"
   ]
  },
  {
   "cell_type": "code",
   "execution_count": 63,
   "id": "49054f9a",
   "metadata": {},
   "outputs": [],
   "source": [
    "isim = \"hilalhilal\""
   ]
  },
  {
   "cell_type": "code",
   "execution_count": 64,
   "id": "4cb80f12",
   "metadata": {},
   "outputs": [
    {
     "data": {
      "text/plain": [
       "False"
      ]
     },
     "execution_count": 64,
     "metadata": {},
     "output_type": "execute_result"
    }
   ],
   "source": [
    "isim.startswith(\"a\")"
   ]
  },
  {
   "cell_type": "code",
   "execution_count": 66,
   "id": "526537bb",
   "metadata": {},
   "outputs": [
    {
     "data": {
      "text/plain": [
       "(False, True)"
      ]
     },
     "execution_count": 66,
     "metadata": {},
     "output_type": "execute_result"
    }
   ],
   "source": [
    "isim.startswith(\"H\"), isim.startswith(\"h\")"
   ]
  },
  {
   "cell_type": "code",
   "execution_count": 67,
   "id": "65b4d5e3",
   "metadata": {},
   "outputs": [
    {
     "data": {
      "text/plain": [
       "False"
      ]
     },
     "execution_count": 67,
     "metadata": {},
     "output_type": "execute_result"
    }
   ],
   "source": [
    "isim.endswith(\"s\")"
   ]
  },
  {
   "cell_type": "code",
   "execution_count": 68,
   "id": "776baf24",
   "metadata": {},
   "outputs": [
    {
     "data": {
      "text/plain": [
       "True"
      ]
     },
     "execution_count": 68,
     "metadata": {},
     "output_type": "execute_result"
    }
   ],
   "source": [
    "isim.endswith(\"l\")"
   ]
  },
  {
   "cell_type": "code",
   "execution_count": 69,
   "id": "88eb2169",
   "metadata": {},
   "outputs": [
    {
     "data": {
      "text/plain": [
       "2"
      ]
     },
     "execution_count": 69,
     "metadata": {},
     "output_type": "execute_result"
    }
   ],
   "source": [
    "isim.count(\"a\")"
   ]
  },
  {
   "cell_type": "code",
   "execution_count": 70,
   "id": "11a9e6b4",
   "metadata": {},
   "outputs": [
    {
     "data": {
      "text/plain": [
       "['a', 'h', 'i', 'l', 'l']"
      ]
     },
     "execution_count": 70,
     "metadata": {},
     "output_type": "execute_result"
    }
   ],
   "source": [
    "sorted(\"hilal\")"
   ]
  },
  {
   "cell_type": "code",
   "execution_count": 72,
   "id": "5194bf55",
   "metadata": {},
   "outputs": [
    {
     "name": "stdout",
     "output_type": "stream",
     "text": [
      "ahill\n"
     ]
    }
   ],
   "source": [
    "print(*sorted(\"hilal\"), sep=\"\")"
   ]
  },
  {
   "cell_type": "markdown",
   "id": "de697981",
   "metadata": {},
   "source": [
    "## Karakterleri Bölmek"
   ]
  },
  {
   "cell_type": "code",
   "execution_count": 1,
   "id": "57f34de2",
   "metadata": {},
   "outputs": [],
   "source": [
    "isim = \"Hilal N. Tek\""
   ]
  },
  {
   "cell_type": "code",
   "execution_count": 2,
   "id": "10cc8c28",
   "metadata": {},
   "outputs": [
    {
     "data": {
      "text/plain": [
       "['Hilal', 'N.', 'Tek']"
      ]
     },
     "execution_count": 2,
     "metadata": {},
     "output_type": "execute_result"
    }
   ],
   "source": [
    "isim.split()"
   ]
  },
  {
   "cell_type": "code",
   "execution_count": 3,
   "id": "0a928f9e",
   "metadata": {},
   "outputs": [
    {
     "data": {
      "text/plain": [
       "['Hil', 'l N. Tek']"
      ]
     },
     "execution_count": 3,
     "metadata": {},
     "output_type": "execute_result"
    }
   ],
   "source": [
    "isim.split(\"a\")"
   ]
  },
  {
   "cell_type": "code",
   "execution_count": 4,
   "id": "c81c65ed",
   "metadata": {},
   "outputs": [
    {
     "data": {
      "text/plain": [
       "['Hilal N. T', 'k']"
      ]
     },
     "execution_count": 4,
     "metadata": {},
     "output_type": "execute_result"
    }
   ],
   "source": [
    "isim.split(\"e\")"
   ]
  },
  {
   "cell_type": "markdown",
   "id": "258bd79d",
   "metadata": {},
   "source": [
    "## Büyük Küçük Harf İşlemleri"
   ]
  },
  {
   "cell_type": "code",
   "execution_count": 5,
   "id": "e94097fb",
   "metadata": {},
   "outputs": [
    {
     "data": {
      "text/plain": [
       "'HILAL N. TEK'"
      ]
     },
     "execution_count": 5,
     "metadata": {},
     "output_type": "execute_result"
    }
   ],
   "source": [
    "isim.upper()"
   ]
  },
  {
   "cell_type": "code",
   "execution_count": 6,
   "id": "9366311b",
   "metadata": {},
   "outputs": [
    {
     "data": {
      "text/plain": [
       "'hilal n. tek'"
      ]
     },
     "execution_count": 6,
     "metadata": {},
     "output_type": "execute_result"
    }
   ],
   "source": [
    "isim.lower()"
   ]
  },
  {
   "cell_type": "code",
   "execution_count": 7,
   "id": "8e579893",
   "metadata": {},
   "outputs": [
    {
     "data": {
      "text/plain": [
       "'hilal n. tek'"
      ]
     },
     "execution_count": 7,
     "metadata": {},
     "output_type": "execute_result"
    }
   ],
   "source": [
    "isim.upper().lower()"
   ]
  },
  {
   "cell_type": "code",
   "execution_count": 8,
   "id": "f247b84f",
   "metadata": {},
   "outputs": [
    {
     "data": {
      "text/plain": [
       "False"
      ]
     },
     "execution_count": 8,
     "metadata": {},
     "output_type": "execute_result"
    }
   ],
   "source": [
    "isim.islower()"
   ]
  },
  {
   "cell_type": "code",
   "execution_count": 9,
   "id": "476cdbf2",
   "metadata": {},
   "outputs": [
    {
     "data": {
      "text/plain": [
       "False"
      ]
     },
     "execution_count": 9,
     "metadata": {},
     "output_type": "execute_result"
    }
   ],
   "source": [
    "isim.isupper()"
   ]
  },
  {
   "cell_type": "code",
   "execution_count": 10,
   "id": "d26078ca",
   "metadata": {},
   "outputs": [
    {
     "data": {
      "text/plain": [
       "'Hilal N. Tek'"
      ]
     },
     "execution_count": 10,
     "metadata": {},
     "output_type": "execute_result"
    }
   ],
   "source": [
    "isim"
   ]
  },
  {
   "cell_type": "markdown",
   "id": "94976251",
   "metadata": {},
   "source": [
    "##  capitalize() & title() & swapcase()"
   ]
  },
  {
   "cell_type": "code",
   "execution_count": 11,
   "id": "c3a97871",
   "metadata": {},
   "outputs": [],
   "source": [
    "isim = \"mustafa murat kutlu\""
   ]
  },
  {
   "cell_type": "code",
   "execution_count": 12,
   "id": "9610ec58",
   "metadata": {},
   "outputs": [
    {
     "data": {
      "text/plain": [
       "'Mustafa murat kutlu'"
      ]
     },
     "execution_count": 12,
     "metadata": {},
     "output_type": "execute_result"
    }
   ],
   "source": [
    "isim.capitalize()"
   ]
  },
  {
   "cell_type": "code",
   "execution_count": 13,
   "id": "026fc818",
   "metadata": {},
   "outputs": [
    {
     "data": {
      "text/plain": [
       "'Mustafa Murat Kutlu'"
      ]
     },
     "execution_count": 13,
     "metadata": {},
     "output_type": "execute_result"
    }
   ],
   "source": [
    "isim.title()"
   ]
  },
  {
   "cell_type": "code",
   "execution_count": 18,
   "id": "91306a2e",
   "metadata": {},
   "outputs": [],
   "source": [
    "isim = \"MUSTAFA murat KUTLU\""
   ]
  },
  {
   "cell_type": "code",
   "execution_count": 19,
   "id": "d61dce5a",
   "metadata": {},
   "outputs": [
    {
     "data": {
      "text/plain": [
       "'mustafa MURAT kutlu'"
      ]
     },
     "execution_count": 19,
     "metadata": {},
     "output_type": "execute_result"
    }
   ],
   "source": [
    "isim.swapcase()"
   ]
  },
  {
   "cell_type": "markdown",
   "id": "61bbfb24",
   "metadata": {},
   "source": [
    "## İstenmeyen Karakterleri Kırpmak: strip(), lstrip(), rstrip()"
   ]
  },
  {
   "cell_type": "code",
   "execution_count": 20,
   "id": "8b6c95f6",
   "metadata": {},
   "outputs": [],
   "source": [
    "isim = \" hello \""
   ]
  },
  {
   "cell_type": "code",
   "execution_count": 21,
   "id": "8e69dcd3",
   "metadata": {},
   "outputs": [
    {
     "data": {
      "text/plain": [
       "'hello'"
      ]
     },
     "execution_count": 21,
     "metadata": {},
     "output_type": "execute_result"
    }
   ],
   "source": [
    "isim.strip()"
   ]
  },
  {
   "cell_type": "code",
   "execution_count": 22,
   "id": "2294fe9d",
   "metadata": {},
   "outputs": [],
   "source": [
    "isim = \"*hello*\""
   ]
  },
  {
   "cell_type": "code",
   "execution_count": 23,
   "id": "f89b8784",
   "metadata": {},
   "outputs": [
    {
     "data": {
      "text/plain": [
       "'hello'"
      ]
     },
     "execution_count": 23,
     "metadata": {},
     "output_type": "execute_result"
    }
   ],
   "source": [
    "isim.strip(\"*\")"
   ]
  },
  {
   "cell_type": "code",
   "execution_count": 24,
   "id": "9c36f7a0",
   "metadata": {},
   "outputs": [
    {
     "data": {
      "text/plain": [
       "'*hello'"
      ]
     },
     "execution_count": 24,
     "metadata": {},
     "output_type": "execute_result"
    }
   ],
   "source": [
    "isim.rstrip(\"*\")"
   ]
  },
  {
   "cell_type": "code",
   "execution_count": 25,
   "id": "209d3b4b",
   "metadata": {},
   "outputs": [
    {
     "data": {
      "text/plain": [
       "'*hello'"
      ]
     },
     "execution_count": 25,
     "metadata": {},
     "output_type": "execute_result"
    }
   ],
   "source": [
    "isim.rstrip(\"*\")"
   ]
  },
  {
   "cell_type": "markdown",
   "id": "51a29cd0",
   "metadata": {},
   "source": [
    "## Bölünmüş ya da Zaten Bölük Olan İfadelerin Birleştirilmesi: join()"
   ]
  },
  {
   "cell_type": "code",
   "execution_count": 27,
   "id": "edd8dda7",
   "metadata": {},
   "outputs": [],
   "source": [
    "isim = \"mustafa murat kutlu\""
   ]
  },
  {
   "cell_type": "code",
   "execution_count": 28,
   "id": "dba1c362",
   "metadata": {},
   "outputs": [],
   "source": [
    "ayrik = isim.split()"
   ]
  },
  {
   "cell_type": "code",
   "execution_count": 29,
   "id": "0eda1a47",
   "metadata": {},
   "outputs": [
    {
     "data": {
      "text/plain": [
       "['mustafa', 'murat', 'kutlu']"
      ]
     },
     "execution_count": 29,
     "metadata": {},
     "output_type": "execute_result"
    }
   ],
   "source": [
    "ayrik"
   ]
  },
  {
   "cell_type": "code",
   "execution_count": 33,
   "id": "5b42ef46",
   "metadata": {},
   "outputs": [
    {
     "data": {
      "text/plain": [
       "'mustafa-murat-kutlu'"
      ]
     },
     "execution_count": 33,
     "metadata": {},
     "output_type": "execute_result"
    }
   ],
   "source": [
    "\"-\".join(ayrik)"
   ]
  },
  {
   "cell_type": "code",
   "execution_count": 34,
   "id": "4782070e",
   "metadata": {},
   "outputs": [
    {
     "data": {
      "text/plain": [
       "'mustafa***murat***kutlu'"
      ]
     },
     "execution_count": 34,
     "metadata": {},
     "output_type": "execute_result"
    }
   ],
   "source": [
    "\"***\".join(ayrik)"
   ]
  },
  {
   "cell_type": "markdown",
   "id": "da2fc3db",
   "metadata": {},
   "source": [
    "## Eleman Değiştirme: replace(), str.maketrans(), translate()"
   ]
  },
  {
   "cell_type": "code",
   "execution_count": 38,
   "id": "15d152db",
   "metadata": {},
   "outputs": [
    {
     "data": {
      "text/plain": [
       "'kustafa kurat kutlu'"
      ]
     },
     "execution_count": 38,
     "metadata": {},
     "output_type": "execute_result"
    }
   ],
   "source": [
    "isim.replace(\"m\",\"k\")"
   ]
  },
  {
   "cell_type": "code",
   "execution_count": 39,
   "id": "be539b4d",
   "metadata": {},
   "outputs": [
    {
     "data": {
      "text/plain": [
       "'muskata murat kutlu'"
      ]
     },
     "execution_count": 39,
     "metadata": {},
     "output_type": "execute_result"
    }
   ],
   "source": [
    "isim.replace(\"tafa\",\"kata\")"
   ]
  },
  {
   "cell_type": "code",
   "execution_count": 40,
   "id": "8c0fc4ee",
   "metadata": {},
   "outputs": [],
   "source": [
    "ifade = \"Bu ifade İçerİsinde bazı TÜRKÇE karaklerler vardığğğİİr!\""
   ]
  },
  {
   "cell_type": "code",
   "execution_count": 41,
   "id": "0e2f12ff",
   "metadata": {},
   "outputs": [],
   "source": [
    "duzeltilecek_harfler = \"çÇğĞıİöÖşŞüÜ\""
   ]
  },
  {
   "cell_type": "code",
   "execution_count": 43,
   "id": "5eb06a3a",
   "metadata": {},
   "outputs": [],
   "source": [
    "duzeltilmis_harfler = \"cCgGiIoOsSuU\""
   ]
  },
  {
   "cell_type": "code",
   "execution_count": 44,
   "id": "7ebfeaf0",
   "metadata": {},
   "outputs": [],
   "source": [
    "harf_duzeltme=str.maketrans(duzeltilecek_harfler,duzeltilmis_harfler)"
   ]
  },
  {
   "cell_type": "code",
   "execution_count": 45,
   "id": "66075e34",
   "metadata": {},
   "outputs": [
    {
     "data": {
      "text/plain": [
       "'Bu ifade IcerIsinde bazi TURKCE karaklerler vardigggIIr!'"
      ]
     },
     "execution_count": 45,
     "metadata": {},
     "output_type": "execute_result"
    }
   ],
   "source": [
    "ifade.translate(harf_duzeltme)"
   ]
  },
  {
   "cell_type": "markdown",
   "id": "7d4fe75d",
   "metadata": {},
   "source": [
    "## contains"
   ]
  },
  {
   "cell_type": "code",
   "execution_count": 51,
   "id": "2a94381b",
   "metadata": {},
   "outputs": [
    {
     "data": {
      "text/plain": [
       "0       ayse\n",
       "1       Ayşe\n",
       "2        ali\n",
       "3       aali\n",
       "4        Ali\n",
       "5       veli\n",
       "6     mehmet\n",
       "7    berkcan\n",
       "dtype: object"
      ]
     },
     "execution_count": 51,
     "metadata": {},
     "output_type": "execute_result"
    }
   ],
   "source": [
    "import pandas as pd\n",
    "\n",
    "isimler = [\"ayse\",\"Ayşe\",\"ali\",\"aali\",\"Ali\",\"veli\",\"mehmet\",\"berkcan\"]\n",
    "v = pd.Series(isimler)\n",
    "v"
   ]
  },
  {
   "cell_type": "code",
   "execution_count": 52,
   "id": "17728298",
   "metadata": {},
   "outputs": [
    {
     "data": {
      "text/plain": [
       "0    False\n",
       "1    False\n",
       "2     True\n",
       "3     True\n",
       "4    False\n",
       "5    False\n",
       "6    False\n",
       "7    False\n",
       "dtype: bool"
      ]
     },
     "execution_count": 52,
     "metadata": {},
     "output_type": "execute_result"
    }
   ],
   "source": [
    "v.str.contains(\"al\")"
   ]
  },
  {
   "cell_type": "code",
   "execution_count": 55,
   "id": "c145a719",
   "metadata": {},
   "outputs": [
    {
     "data": {
      "text/plain": [
       "<bound method NDFrame._add_numeric_operations.<locals>.sum of 0    False\n",
       "1    False\n",
       "2     True\n",
       "3     True\n",
       "4    False\n",
       "5    False\n",
       "6    False\n",
       "7    False\n",
       "dtype: bool>"
      ]
     },
     "execution_count": 55,
     "metadata": {},
     "output_type": "execute_result"
    }
   ],
   "source": [
    "v.str.contains(\"al\").sum"
   ]
  },
  {
   "cell_type": "code",
   "execution_count": 56,
   "id": "df8fa304",
   "metadata": {},
   "outputs": [
    {
     "data": {
      "text/plain": [
       "<bound method NDFrame._add_numeric_operations.<locals>.sum of 0    False\n",
       "1    False\n",
       "2     True\n",
       "3     True\n",
       "4     True\n",
       "5    False\n",
       "6    False\n",
       "7    False\n",
       "dtype: bool>"
      ]
     },
     "execution_count": 56,
     "metadata": {},
     "output_type": "execute_result"
    }
   ],
   "source": [
    "v.str.contains(\"[aA]l\").sum"
   ]
  },
  {
   "cell_type": "code",
   "execution_count": null,
   "id": "76333e73",
   "metadata": {},
   "outputs": [],
   "source": []
  },
  {
   "cell_type": "code",
   "execution_count": null,
   "id": "8a923f99",
   "metadata": {},
   "outputs": [],
   "source": []
  },
  {
   "cell_type": "code",
   "execution_count": null,
   "id": "138c26f0",
   "metadata": {},
   "outputs": [],
   "source": []
  },
  {
   "cell_type": "code",
   "execution_count": null,
   "id": "216e1a76",
   "metadata": {},
   "outputs": [],
   "source": []
  }
 ],
 "metadata": {
  "kernelspec": {
   "display_name": "Python 3 (ipykernel)",
   "language": "python",
   "name": "python3"
  },
  "language_info": {
   "codemirror_mode": {
    "name": "ipython",
    "version": 3
   },
   "file_extension": ".py",
   "mimetype": "text/x-python",
   "name": "python",
   "nbconvert_exporter": "python",
   "pygments_lexer": "ipython3",
   "version": "3.8.5"
  }
 },
 "nbformat": 4,
 "nbformat_minor": 5
}
